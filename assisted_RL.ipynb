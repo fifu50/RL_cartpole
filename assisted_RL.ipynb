{
 "cells": [
  {
   "attachments": {},
   "cell_type": "markdown",
   "metadata": {},
   "source": [
    "Use a efficient policy to provide the first experience of the model"
   ]
  },
  {
   "cell_type": "code",
   "execution_count": 1,
   "metadata": {},
   "outputs": [],
   "source": [
    "# CartPole-v1 using Q-learning\n",
    "\n",
    "import gym\n",
    "import cartpole\n",
    "import numpy as np\n",
    "import matplotlib.pyplot as plt\n",
    "import seaborn as sns\n",
    "\n",
    "#Linear regression\n",
    "from sklearn.linear_model import LinearRegression\n",
    "\n",
    "from collections import deque\n",
    "\n",
    "import random\n",
    "\n",
    "from tensorflow import keras\n",
    "\n",
    "from tqdm import tqdm\n",
    "\n",
    "import multiprocessing\n",
    "\n",
    "import time\n",
    "\n",
    "sns.set_style(\"darkgrid\")"
   ]
  },
  {
   "cell_type": "code",
   "execution_count": 20,
   "metadata": {},
   "outputs": [],
   "source": [
    "class solver:\n",
    "    def __init__(self, state_space, action_space, max_memory=10000, epsilon_exploration = 0.5, exploration_decay = 0.95,gamma = 0.95, learning_rate = 0.1):\n",
    "        self.state_space = state_space\n",
    "        self.action_space = action_space\n",
    "        self.epsilon_exploration = epsilon_exploration\n",
    "        self.exploration_decay = exploration_decay\n",
    "        self.gamma = gamma\n",
    "        self.learning_rate = learning_rate\n",
    "        #self.discount = discount\n",
    "\n",
    "        #Define the memory\n",
    "        self.memory = deque()\n",
    "        self.max_memory = max_memory\n",
    "\n",
    "        #Define the model to approximate the Q function\n",
    "        self.model = keras.Sequential()\n",
    "        self.model.add(keras.layers.Dense(32, input_dim=state_space, activation='relu'))\n",
    "        self.model.add(keras.layers.Dropout(0.3))\n",
    "        self.model.add(keras.layers.Dense(32, activation='relu')) #Hidden layer\n",
    "        self.model.add(keras.layers.Dense(action_space, activation='linear')) #expected reward for each action\n",
    "        #self.model.compile(loss='mse', optimizer=keras.optimizers.Adam(learning_rate=0.01)) #Apparently not a good idea in RL\n",
    "        self.model.compile(optimizer=keras.optimizers.RMSprop(learning_rate = 0.001, rho = 0.95, epsilon = 0.01), loss='mse')\n",
    "\n",
    "    def new_experience(self, state, action, reward, next_state, done):\n",
    "        self.memory.append([state, action, reward, next_state, done])\n",
    "\n",
    "    def act(self, state):\n",
    "        #Explore\n",
    "        if np.random.rand() <= self.epsilon_exploration:\n",
    "            return np.random.randint(self.action_space) #Assuming start value is 0\n",
    "        #Else exploit\n",
    "        q_values = self.model.predict(state, verbose=0)\n",
    "        return np.argmax(q_values[0])\n",
    "\n",
    "    def replay(self, batch_size=32):\n",
    "        #Get a batch of experiences\n",
    "        if len(self.memory) < batch_size:\n",
    "            return\n",
    "        else:\n",
    "            batch = random.choices(self.memory, k=batch_size) #state, action, reward, next_state, done\n",
    "            state, action, reward, next_state, done = map(np.array, zip(*batch))\n",
    "                #Compute the target\n",
    "                    #Applying the Bellman equation\n",
    "            \n",
    "            target = reward + self.gamma * np.amax(self.model.predict(np.concatenate(next_state, axis=0), verbose=0)) * (1 - done)\n",
    "            #Compute the target for the action\n",
    "            target_f = self.model.predict(np.concatenate(state), verbose=0)\n",
    "            #update for each target on the action coordinate\n",
    "            target_f[np.arange(len(action)), action] = (1- self.learning_rate)* target_f[np.arange(len(action)), action] + self.learning_rate*target\n",
    "            #Train the model\n",
    "            state = np.concatenate(state)\n",
    "            \n",
    "            self.model.fit(state, target_f, epochs=1, verbose=0, batch_size=1)\n",
    "\n",
    "            self.epsilon_exploration *= self.exploration_decay\n",
    "            self.epsilon_exploration = max(0.05, self.epsilon_exploration)\n",
    "\n",
    "    def run_efficient_policy(self):\n",
    "        nb_episodes = 1\n",
    "        epsilon = 0.1\n",
    "\n",
    "        \n",
    "\n",
    "        env = cartpole.CartPoleEnv(3)\n",
    "        for i in tqdm(range(nb_episodes)):\n",
    "            env.reset()\n",
    "            observation, reward, done, info = env.step(2)\n",
    "            done = False\n",
    "            steps = 1\n",
    "            while not done:\n",
    "                #env.render()\n",
    "                steps+=1\n",
    "                old_state = np.reshape(observation, [1, self.state_space])\n",
    "                if np.abs(observation[3]) > epsilon:\n",
    "                    if observation[3] < 0:\n",
    "                        action = 0\n",
    "                        observation, reward, done, info = env.step(action)\n",
    "                    else:\n",
    "                        action = 1\n",
    "                        observation, reward, done, info = env.step(action)\n",
    "                else:\n",
    "                    if observation[2] < 0:\n",
    "                        action = 0\n",
    "                        observation, reward, done, info = env.step(action)\n",
    "                    else:\n",
    "                        action = 1\n",
    "                        observation, reward, done, info = env.step(action)\n",
    "            observation = np.reshape(observation, [1, self.state_space])\n",
    "            self.new_experience(old_state, action, reward, observation, done)\n",
    "\n",
    "        env.close()"
   ]
  },
  {
   "cell_type": "code",
   "execution_count": 21,
   "metadata": {},
   "outputs": [
    {
     "name": "stderr",
     "output_type": "stream",
     "text": [
      "100%|██████████| 1/1 [00:00<00:00, 122.59it/s]\n",
      "  0%|          | 0/5 [00:00<?, ?it/s]2023-03-19 20:25:33.209203: I tensorflow/core/grappler/optimizers/custom_graph_optimizer_registry.cc:113] Plugin optimizer for device_type GPU is enabled.\n",
      " 20%|██        | 1/5 [00:00<00:02,  1.42it/s]2023-03-19 20:25:34.203896: I tensorflow/core/grappler/optimizers/custom_graph_optimizer_registry.cc:113] Plugin optimizer for device_type GPU is enabled.\n",
      "100%|██████████| 5/5 [00:37<00:00,  7.43s/it]\n"
     ]
    }
   ],
   "source": [
    "#Training the model\n",
    "\n",
    "nb_episodes = 5\n",
    "state_dim = 4\n",
    "action_dim = 3 # 3 actions : left, right, do nothing\n",
    "\n",
    "env_DQN = cartpole.CartPoleEnv()\n",
    "agent = solver(state_dim, action_dim)\n",
    "agent.run_efficient_policy()\n",
    "agent.replay(batch_size=1000)\n",
    "timesteps = 1\n",
    "scores_DQN = list()\n",
    "steps_history_DQN = list()\n",
    "for episode in tqdm(range(nb_episodes)):\n",
    "    state = env_DQN.reset()\n",
    "    state = np.reshape(state, [1, state_dim])\n",
    "    done = False\n",
    "    score = 0\n",
    "    steps  = 0\n",
    "    while not done:\n",
    "        steps += 1\n",
    "        action = agent.act(state)\n",
    "        next_state, reward, done, _ = env_DQN.step(action)\n",
    "        next_state = np.reshape(next_state, [1, state_dim])\n",
    "        if not done:\n",
    "            reward = reward\n",
    "        else:\n",
    "            reward = -reward\n",
    "        agent.new_experience(state, action, reward, next_state, done)\n",
    "        state = next_state\n",
    "        score += reward\n",
    "        agent.replay() #Learn from the experience\n",
    "    if episode % timesteps == 0:\n",
    "        #print(steps)\n",
    "        scores_DQN.append(score)\n",
    "        steps_history_DQN.append(steps)\n",
    "        \n",
    "\n",
    "#Save the model\n",
    "agent.model.save('model_DQN_replay_permament.h5')"
   ]
  },
  {
   "cell_type": "code",
   "execution_count": 23,
   "metadata": {},
   "outputs": [
    {
     "data": {
      "text/plain": [
       "[<matplotlib.lines.Line2D at 0x2a22099d0>]"
      ]
     },
     "execution_count": 23,
     "metadata": {},
     "output_type": "execute_result"
    },
    {
     "data": {
      "image/png": "[encoded data removed]",
      "text/plain": [
       "<Figure size 640x480 with 1 Axes>"
      ]
     },
     "metadata": {},
     "output_type": "display_data"
    }
   ],
   "source": [
    "plt.plot(steps_history_DQN)"
   ]
  },
  {
   "cell_type": "code",
   "execution_count": null,
   "metadata": {},
   "outputs": [],
   "source": []
  }
 ],
 "metadata": {
  "kernelspec": {
   "display_name": "ml9",
   "language": "python",
   "name": "python3"
  },
  "language_info": {
   "codemirror_mode": {
    "name": "ipython",
    "version": 3
   },
   "file_extension": ".py",
   "mimetype": "text/x-python",
   "name": "python",
   "nbconvert_exporter": "python",
   "pygments_lexer": "ipython3",
   "version": "3.9.15"
  },
  "orig_nbformat": 4
 },
 "nbformat": 4,
 "nbformat_minor": 2
}
